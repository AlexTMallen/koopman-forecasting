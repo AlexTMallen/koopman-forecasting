{
 "cells": [
  {
   "cell_type": "code",
   "execution_count": 15,
   "metadata": {},
   "outputs": [],
   "source": [
    "import random\n",
    "import numpy as np\n",
    "import numpy.matlib\n",
    "import matplotlib.pyplot as plt\n",
    "import pandas as pd\n",
    "\n",
    "from scipy.stats import norm, skewnorm"
   ]
  },
  {
   "cell_type": "code",
   "execution_count": 54,
   "metadata": {},
   "outputs": [],
   "source": [
    "import os\n",
    "\n",
    "zones = ['ISONE CA', 'ME', 'RI', 'VT', 'CT', 'NH', 'SEMASS', 'WCMASS', 'NEMASSBOST']\n",
    "\n",
    "test_z_scores_dict = dict()\n",
    "test_z_scores = []\n",
    "\n",
    "relative_perfs = pd.DataFrame()\n",
    "relative = []\n",
    "\n",
    "folder = \".\\\\experiments\\\\vanilla_comp\\\\\"\n",
    "for fname in os.listdir(folder):\n",
    "    if fname.endswith(\"relative_perfs.npy\"):\n",
    "        month = fname[12:15]\n",
    "        relative_perfs[month] = np.load(os.path.join(folder, fname))\n",
    "        relative.extend(relative_perfs[month])\n",
    "    if fname.endswith(\"test_z_scores.npy\"):\n",
    "        month = fname[12:15]\n",
    "        test_z_scores_dict[month] = np.load(os.path.join(folder, fname))\n",
    "        test_z_scores.extend((test_z_scores_dict[month][:, :, 0][0]).tolist())\n",
    "relative_perfs.index = ['ISONE CA', 'ME', 'RI', 'VT', 'CT', 'NH', 'SEMASS', 'WCMASS', 'NEMASSBOST']\n",
    "relative_perfs = relative_perfs.T\n",
    "relative_perfs = relative_perfs.loc[[\"Jan\", \"Mar\", \"May\", \"Jul\", \"Sep\", \"Nov\"]]"
   ]
  },
  {
   "cell_type": "code",
   "execution_count": 55,
   "metadata": {},
   "outputs": [
    {
     "data": {
      "text/html": [
       "<div>\n",
       "<style scoped>\n",
       "    .dataframe tbody tr th:only-of-type {\n",
       "        vertical-align: middle;\n",
       "    }\n",
       "\n",
       "    .dataframe tbody tr th {\n",
       "        vertical-align: top;\n",
       "    }\n",
       "\n",
       "    .dataframe thead th {\n",
       "        text-align: right;\n",
       "    }\n",
       "</style>\n",
       "<table border=\"1\" class=\"dataframe\">\n",
       "  <thead>\n",
       "    <tr style=\"text-align: right;\">\n",
       "      <th></th>\n",
       "      <th>ISONE CA</th>\n",
       "      <th>ME</th>\n",
       "      <th>RI</th>\n",
       "      <th>VT</th>\n",
       "      <th>CT</th>\n",
       "      <th>NH</th>\n",
       "      <th>SEMASS</th>\n",
       "      <th>WCMASS</th>\n",
       "      <th>NEMASSBOST</th>\n",
       "      <th>mean</th>\n",
       "    </tr>\n",
       "  </thead>\n",
       "  <tbody>\n",
       "    <tr>\n",
       "      <th>Jan</th>\n",
       "      <td>13.592506</td>\n",
       "      <td>7.236752</td>\n",
       "      <td>-6.215116</td>\n",
       "      <td>7.746979</td>\n",
       "      <td>3.906798</td>\n",
       "      <td>21.472776</td>\n",
       "      <td>11.770540</td>\n",
       "      <td>9.247547</td>\n",
       "      <td>6.775420</td>\n",
       "      <td>8.392689</td>\n",
       "    </tr>\n",
       "    <tr>\n",
       "      <th>Mar</th>\n",
       "      <td>23.855705</td>\n",
       "      <td>25.308858</td>\n",
       "      <td>26.019216</td>\n",
       "      <td>28.779207</td>\n",
       "      <td>23.574001</td>\n",
       "      <td>27.390719</td>\n",
       "      <td>27.842909</td>\n",
       "      <td>16.648319</td>\n",
       "      <td>14.803507</td>\n",
       "      <td>23.802493</td>\n",
       "    </tr>\n",
       "    <tr>\n",
       "      <th>May</th>\n",
       "      <td>5.424575</td>\n",
       "      <td>1.642643</td>\n",
       "      <td>-6.786470</td>\n",
       "      <td>21.734621</td>\n",
       "      <td>-3.482819</td>\n",
       "      <td>8.421488</td>\n",
       "      <td>2.127361</td>\n",
       "      <td>-0.110955</td>\n",
       "      <td>-12.081322</td>\n",
       "      <td>1.876569</td>\n",
       "    </tr>\n",
       "    <tr>\n",
       "      <th>Jul</th>\n",
       "      <td>26.277853</td>\n",
       "      <td>23.731817</td>\n",
       "      <td>19.811630</td>\n",
       "      <td>9.921223</td>\n",
       "      <td>30.552949</td>\n",
       "      <td>29.724549</td>\n",
       "      <td>19.395234</td>\n",
       "      <td>14.566929</td>\n",
       "      <td>12.041061</td>\n",
       "      <td>20.669249</td>\n",
       "    </tr>\n",
       "    <tr>\n",
       "      <th>Sep</th>\n",
       "      <td>-5.316200</td>\n",
       "      <td>2.166968</td>\n",
       "      <td>5.102784</td>\n",
       "      <td>3.977093</td>\n",
       "      <td>-2.104084</td>\n",
       "      <td>0.033106</td>\n",
       "      <td>0.345824</td>\n",
       "      <td>-2.654832</td>\n",
       "      <td>0.625954</td>\n",
       "      <td>0.241846</td>\n",
       "    </tr>\n",
       "    <tr>\n",
       "      <th>Nov</th>\n",
       "      <td>24.500806</td>\n",
       "      <td>15.494809</td>\n",
       "      <td>15.700225</td>\n",
       "      <td>15.330661</td>\n",
       "      <td>18.274852</td>\n",
       "      <td>24.730446</td>\n",
       "      <td>17.592083</td>\n",
       "      <td>21.534310</td>\n",
       "      <td>21.735693</td>\n",
       "      <td>19.432654</td>\n",
       "    </tr>\n",
       "  </tbody>\n",
       "</table>\n",
       "</div>"
      ],
      "text/plain": [
       "      ISONE CA         ME         RI         VT         CT         NH  \\\n",
       "Jan  13.592506   7.236752  -6.215116   7.746979   3.906798  21.472776   \n",
       "Mar  23.855705  25.308858  26.019216  28.779207  23.574001  27.390719   \n",
       "May   5.424575   1.642643  -6.786470  21.734621  -3.482819   8.421488   \n",
       "Jul  26.277853  23.731817  19.811630   9.921223  30.552949  29.724549   \n",
       "Sep  -5.316200   2.166968   5.102784   3.977093  -2.104084   0.033106   \n",
       "Nov  24.500806  15.494809  15.700225  15.330661  18.274852  24.730446   \n",
       "\n",
       "        SEMASS     WCMASS  NEMASSBOST       mean  \n",
       "Jan  11.770540   9.247547    6.775420   8.392689  \n",
       "Mar  27.842909  16.648319   14.803507  23.802493  \n",
       "May   2.127361  -0.110955  -12.081322   1.876569  \n",
       "Jul  19.395234  14.566929   12.041061  20.669249  \n",
       "Sep   0.345824  -2.654832    0.625954   0.241846  \n",
       "Nov  17.592083  21.534310   21.735693  19.432654  "
      ]
     },
     "execution_count": 55,
     "metadata": {},
     "output_type": "execute_result"
    }
   ],
   "source": [
    "relative_perfs[\"mean\"] = relative_perfs.mean(axis=1)\n",
    "relative_perfs"
   ]
  },
  {
   "cell_type": "code",
   "execution_count": 56,
   "metadata": {},
   "outputs": [
    {
     "data": {
      "text/plain": [
       "11.177910746471891"
      ]
     },
     "execution_count": 56,
     "metadata": {},
     "output_type": "execute_result"
    }
   ],
   "source": [
    "np.std(relative)"
   ]
  },
  {
   "cell_type": "code",
   "execution_count": 57,
   "metadata": {},
   "outputs": [
    {
     "name": "stdout",
     "output_type": "stream",
     "text": [
      "(12.40258348152922,) 8.34647528798213\n"
     ]
    },
    {
     "data": {
      "text/plain": [
       "(array([4.05610819]), array([20.74905877]))"
      ]
     },
     "execution_count": 57,
     "metadata": {},
     "output_type": "execute_result"
    }
   ],
   "source": [
    "# 95\\% confidence interval (not accurate, these samples are not independent). We assume that the 6 months we tested on (every other month) are representative\n",
    "# of our overall performance on the 6 rounds of GEFCom2017. (maybe explain more why this is as fair of a comparison as it gets)\n",
    "me = np.mean(relative), \n",
    "er = np.std(perfs_by_zone, ddof=1) / np.sqrt(6)  # ?\n",
    "print(me, 2 * er)\n",
    "me - 2 * er, me + 2 * er"
   ]
  },
  {
   "cell_type": "code",
   "execution_count": 58,
   "metadata": {},
   "outputs": [
    {
     "data": {
      "text/plain": [
       "6.218181818181818"
      ]
     },
     "execution_count": 58,
     "metadata": {},
     "output_type": "execute_result"
    }
   ],
   "source": [
    "np.std(perfs_by_zone)\n",
    "9 * 7.6 / 11"
   ]
  },
  {
   "cell_type": "code",
   "execution_count": 59,
   "metadata": {},
   "outputs": [
    {
     "data": {
      "text/plain": [
       "<matplotlib.legend.Legend at 0x1f487e30f48>"
      ]
     },
     "execution_count": 59,
     "metadata": {},
     "output_type": "execute_result"
    },
    {
     "data": {
      "image/png": "[encoded data removed]",
      "text/plain": [
       "<Figure size 900x600 with 1 Axes>"
      ]
     },
     "metadata": {
      "needs_background": "light"
     },
     "output_type": "display_data"
    }
   ],
   "source": [
    "plt.figure(dpi=150)\n",
    "plt.bar(np.arange(6), relative_perfs[\"mean\"], tick_label=relative_perfs.index)\n",
    "plt.axhline(me, color=\"k\", label=\"overall mean\")\n",
    "plt.title(\"performance averaged over zones\")\n",
    "plt.ylabel(\"avg. % improvement over VB\")\n",
    "plt.xlabel(\"test month\")\n",
    "plt.legend()"
   ]
  },
  {
   "cell_type": "code",
   "execution_count": 63,
   "metadata": {},
   "outputs": [
    {
     "data": {
      "text/plain": [
       "5.0"
      ]
     },
     "execution_count": 63,
     "metadata": {},
     "output_type": "execute_result"
    }
   ],
   "source": [
    "np.std([10, 10, 10, 10, 10, 0, 0, 0, 0, 0])"
   ]
  },
  {
   "cell_type": "code",
   "execution_count": 64,
   "metadata": {},
   "outputs": [
    {
     "data": {
      "text/plain": [
       "(-0.2234078623571291, 1.2162113742815008)"
      ]
     },
     "execution_count": 64,
     "metadata": {},
     "output_type": "execute_result"
    },
    {
     "data": {
      "image/png": "[encoded data removed]",
      "text/plain": [
       "<Figure size 432x288 with 1 Axes>"
      ]
     },
     "metadata": {
      "needs_background": "light"
     },
     "output_type": "display_data"
    }
   ],
   "source": [
    "z_hist, bin_edges = np.histogram(test_z_scores, bins=40, range=(-5, 5), density=True)\n",
    "z_axis = (bin_edges[1:] + bin_edges[:-1]) / 2\n",
    "plt.plot(z_axis, z_hist, label=\"Koopman test z-scores\")\n",
    "# plt.plot(z_axis, normal_pdf(0, 1, z_axis), label=\"Standard Normal Curve\")\n",
    "# plt.title(list(all_data.keys())[i])\n",
    "np.mean(test_z_scores), np.mean(np.std(test_z_scores))"
   ]
  },
  {
   "cell_type": "code",
   "execution_count": 67,
   "metadata": {},
   "outputs": [
    {
     "data": {
      "text/plain": [
       "array([[1.21289467],\n",
       "       [0.93627955],\n",
       "       [1.18226037],\n",
       "       [1.4224453 ],\n",
       "       [1.20038223],\n",
       "       [1.2024106 ],\n",
       "       [1.19727773],\n",
       "       [1.27099481],\n",
       "       [1.27916554]])"
      ]
     },
     "execution_count": 67,
     "metadata": {},
     "output_type": "execute_result"
    }
   ],
   "source": [
    "mar_z = np.array(test_z_scores_dict[\"Mar\"])\n",
    "mar_z.std(axis=1)"
   ]
  }
 ],
 "metadata": {
  "kernelspec": {
   "display_name": "Python 3",
   "language": "python",
   "name": "python3"
  },
  "language_info": {
   "codemirror_mode": {
    "name": "ipython",
    "version": 3
   },
   "file_extension": ".py",
   "mimetype": "text/x-python",
   "name": "python",
   "nbconvert_exporter": "python",
   "pygments_lexer": "ipython3",
   "version": "3.7.9"
  }
 },
 "nbformat": 4,
 "nbformat_minor": 4
}
