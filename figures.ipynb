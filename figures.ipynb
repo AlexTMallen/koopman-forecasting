{
 "cells": [
  {
   "cell_type": "code",
   "execution_count": 1,
   "metadata": {},
   "outputs": [],
   "source": [
    "import random\n",
    "import numpy as np\n",
    "import numpy.matlib\n",
    "import matplotlib.pyplot as plt\n",
    "import pandas as pd\n",
    "\n",
    "from scipy.stats import norm, skewnorm"
   ]
  },
  {
   "cell_type": "code",
   "execution_count": 2,
   "metadata": {},
   "outputs": [],
   "source": [
    "def rms(x, axis=None):\n",
    "    if axis is not None:\n",
    "        return np.sqrt(np.sum(x**2, axis=axis) / x.shape[axis])\n",
    "    return np.sqrt(np.sum(x**2) / x.size)"
   ]
  },
  {
   "cell_type": "code",
   "execution_count": 5,
   "metadata": {},
   "outputs": [],
   "source": [
    "import os\n",
    "\n",
    "zones = ['ISONE CA', 'ME', 'RI', 'VT', 'CT', 'NH', 'SEMASS', 'WCMASS', 'NEMASSBOST']\n",
    "\n",
    "test_z_scores_dict = dict()\n",
    "test_z_scores = []\n",
    "\n",
    "z_scores_dict = dict()\n",
    "z_scores = []\n",
    "\n",
    "relative_perfs = pd.DataFrame()\n",
    "relative = []\n",
    "\n",
    "folder = \".\\\\experiments\\\\vanilla_comp\\\\\"\n",
    "for fname in os.listdir(folder):\n",
    "    if fname.endswith(\"relative_perfs.npy\"):\n",
    "        month = fname[12:15]\n",
    "        relative_perfs[month] = np.load(os.path.join(folder, fname))\n",
    "        relative.extend(relative_perfs[month])\n",
    "    if fname.endswith(\"test_z_scores.npy\"):\n",
    "        month = fname[12:15]\n",
    "        test_z_scores_dict[month] = np.load(os.path.join(folder, fname))\n",
    "        test_z_scores.extend((test_z_scores_dict[month][:, :, 0][0]).tolist())\n",
    "    elif fname.endswith(\"z_scores.npy\"):\n",
    "        month = fname[12:15]\n",
    "        z_scores_dict[month] = np.load(os.path.join(folder, fname))\n",
    "        z_scores.extend((z_scores_dict[month][:, :, 0][0]).tolist())\n",
    "relative_perfs.index = ['ISONE CA', 'ME', 'RI', 'VT', 'CT', 'NH', 'SEMASS', 'WCMASS', 'NEMASSBOST']\n",
    "relative_perfs = relative_perfs.T\n",
    "relative_perfs = relative_perfs.loc[[\"Jan\", \"Feb\", \"Mar\", \"Apr\", \"May\", \"Jun\", \"Jul\", \"Aug\", \"Sep\", \"Oct\", \"Nov\", \"Dec\"]]"
   ]
  },
  {
   "cell_type": "code",
   "execution_count": 6,
   "metadata": {},
   "outputs": [
    {
     "data": {
      "text/html": [
       "<div>\n",
       "<style scoped>\n",
       "    .dataframe tbody tr th:only-of-type {\n",
       "        vertical-align: middle;\n",
       "    }\n",
       "\n",
       "    .dataframe tbody tr th {\n",
       "        vertical-align: top;\n",
       "    }\n",
       "\n",
       "    .dataframe thead th {\n",
       "        text-align: right;\n",
       "    }\n",
       "</style>\n",
       "<table border=\"1\" class=\"dataframe\">\n",
       "  <thead>\n",
       "    <tr style=\"text-align: right;\">\n",
       "      <th></th>\n",
       "      <th>ISONE CA</th>\n",
       "      <th>ME</th>\n",
       "      <th>RI</th>\n",
       "      <th>VT</th>\n",
       "      <th>CT</th>\n",
       "      <th>NH</th>\n",
       "      <th>SEMASS</th>\n",
       "      <th>WCMASS</th>\n",
       "      <th>NEMASSBOST</th>\n",
       "      <th>avg</th>\n",
       "    </tr>\n",
       "  </thead>\n",
       "  <tbody>\n",
       "    <tr>\n",
       "      <th>Jan</th>\n",
       "      <td>13.592506</td>\n",
       "      <td>7.236752</td>\n",
       "      <td>-6.215116</td>\n",
       "      <td>7.746979</td>\n",
       "      <td>3.906798</td>\n",
       "      <td>21.472776</td>\n",
       "      <td>11.770540</td>\n",
       "      <td>9.247547</td>\n",
       "      <td>6.775420</td>\n",
       "      <td>8.392689</td>\n",
       "    </tr>\n",
       "    <tr>\n",
       "      <th>Feb</th>\n",
       "      <td>-7.188434</td>\n",
       "      <td>-9.939449</td>\n",
       "      <td>6.296061</td>\n",
       "      <td>4.654600</td>\n",
       "      <td>7.691406</td>\n",
       "      <td>-7.350878</td>\n",
       "      <td>3.687269</td>\n",
       "      <td>-2.339584</td>\n",
       "      <td>4.136036</td>\n",
       "      <td>-0.039219</td>\n",
       "    </tr>\n",
       "    <tr>\n",
       "      <th>Mar</th>\n",
       "      <td>23.833443</td>\n",
       "      <td>25.278269</td>\n",
       "      <td>26.111572</td>\n",
       "      <td>28.561030</td>\n",
       "      <td>23.632270</td>\n",
       "      <td>27.080959</td>\n",
       "      <td>27.842376</td>\n",
       "      <td>16.704992</td>\n",
       "      <td>14.251738</td>\n",
       "      <td>23.699628</td>\n",
       "    </tr>\n",
       "    <tr>\n",
       "      <th>Apr</th>\n",
       "      <td>20.477089</td>\n",
       "      <td>-18.979579</td>\n",
       "      <td>23.618312</td>\n",
       "      <td>32.365015</td>\n",
       "      <td>33.813207</td>\n",
       "      <td>27.663434</td>\n",
       "      <td>35.118771</td>\n",
       "      <td>32.875166</td>\n",
       "      <td>27.338120</td>\n",
       "      <td>23.809948</td>\n",
       "    </tr>\n",
       "    <tr>\n",
       "      <th>May</th>\n",
       "      <td>5.424575</td>\n",
       "      <td>1.642643</td>\n",
       "      <td>-6.786470</td>\n",
       "      <td>21.734621</td>\n",
       "      <td>-3.482819</td>\n",
       "      <td>8.421488</td>\n",
       "      <td>2.127361</td>\n",
       "      <td>-0.110955</td>\n",
       "      <td>-12.081322</td>\n",
       "      <td>1.876569</td>\n",
       "    </tr>\n",
       "    <tr>\n",
       "      <th>Jun</th>\n",
       "      <td>13.665448</td>\n",
       "      <td>16.210534</td>\n",
       "      <td>20.875809</td>\n",
       "      <td>5.031805</td>\n",
       "      <td>21.380714</td>\n",
       "      <td>17.575073</td>\n",
       "      <td>10.780926</td>\n",
       "      <td>9.669403</td>\n",
       "      <td>2.083607</td>\n",
       "      <td>13.030369</td>\n",
       "    </tr>\n",
       "    <tr>\n",
       "      <th>Jul</th>\n",
       "      <td>26.277853</td>\n",
       "      <td>23.731817</td>\n",
       "      <td>19.811630</td>\n",
       "      <td>9.921223</td>\n",
       "      <td>30.552949</td>\n",
       "      <td>29.724549</td>\n",
       "      <td>19.395234</td>\n",
       "      <td>14.566929</td>\n",
       "      <td>12.041061</td>\n",
       "      <td>20.669249</td>\n",
       "    </tr>\n",
       "    <tr>\n",
       "      <th>Aug</th>\n",
       "      <td>16.919618</td>\n",
       "      <td>22.449793</td>\n",
       "      <td>18.305715</td>\n",
       "      <td>10.086784</td>\n",
       "      <td>22.072362</td>\n",
       "      <td>27.786850</td>\n",
       "      <td>18.239768</td>\n",
       "      <td>-3.215009</td>\n",
       "      <td>-1.637649</td>\n",
       "      <td>14.556470</td>\n",
       "    </tr>\n",
       "    <tr>\n",
       "      <th>Sep</th>\n",
       "      <td>-5.316200</td>\n",
       "      <td>2.166968</td>\n",
       "      <td>5.102784</td>\n",
       "      <td>3.977093</td>\n",
       "      <td>-2.104084</td>\n",
       "      <td>0.033106</td>\n",
       "      <td>0.345824</td>\n",
       "      <td>-2.654832</td>\n",
       "      <td>0.625954</td>\n",
       "      <td>0.241846</td>\n",
       "    </tr>\n",
       "    <tr>\n",
       "      <th>Oct</th>\n",
       "      <td>-0.188981</td>\n",
       "      <td>12.121388</td>\n",
       "      <td>0.783305</td>\n",
       "      <td>13.842552</td>\n",
       "      <td>1.054683</td>\n",
       "      <td>9.400052</td>\n",
       "      <td>7.062053</td>\n",
       "      <td>3.816700</td>\n",
       "      <td>5.516739</td>\n",
       "      <td>5.934277</td>\n",
       "    </tr>\n",
       "    <tr>\n",
       "      <th>Nov</th>\n",
       "      <td>24.500806</td>\n",
       "      <td>15.494809</td>\n",
       "      <td>15.700225</td>\n",
       "      <td>15.330661</td>\n",
       "      <td>18.274852</td>\n",
       "      <td>24.730446</td>\n",
       "      <td>17.592083</td>\n",
       "      <td>21.534310</td>\n",
       "      <td>21.735693</td>\n",
       "      <td>19.432654</td>\n",
       "    </tr>\n",
       "    <tr>\n",
       "      <th>Dec</th>\n",
       "      <td>7.746745</td>\n",
       "      <td>2.751280</td>\n",
       "      <td>5.095160</td>\n",
       "      <td>2.409106</td>\n",
       "      <td>3.761140</td>\n",
       "      <td>-4.532587</td>\n",
       "      <td>1.535632</td>\n",
       "      <td>8.837094</td>\n",
       "      <td>7.718776</td>\n",
       "      <td>3.924705</td>\n",
       "    </tr>\n",
       "  </tbody>\n",
       "</table>\n",
       "</div>"
      ],
      "text/plain": [
       "      ISONE CA         ME         RI         VT         CT         NH  \\\n",
       "Jan  13.592506   7.236752  -6.215116   7.746979   3.906798  21.472776   \n",
       "Feb  -7.188434  -9.939449   6.296061   4.654600   7.691406  -7.350878   \n",
       "Mar  23.833443  25.278269  26.111572  28.561030  23.632270  27.080959   \n",
       "Apr  20.477089 -18.979579  23.618312  32.365015  33.813207  27.663434   \n",
       "May   5.424575   1.642643  -6.786470  21.734621  -3.482819   8.421488   \n",
       "Jun  13.665448  16.210534  20.875809   5.031805  21.380714  17.575073   \n",
       "Jul  26.277853  23.731817  19.811630   9.921223  30.552949  29.724549   \n",
       "Aug  16.919618  22.449793  18.305715  10.086784  22.072362  27.786850   \n",
       "Sep  -5.316200   2.166968   5.102784   3.977093  -2.104084   0.033106   \n",
       "Oct  -0.188981  12.121388   0.783305  13.842552   1.054683   9.400052   \n",
       "Nov  24.500806  15.494809  15.700225  15.330661  18.274852  24.730446   \n",
       "Dec   7.746745   2.751280   5.095160   2.409106   3.761140  -4.532587   \n",
       "\n",
       "        SEMASS     WCMASS  NEMASSBOST        avg  \n",
       "Jan  11.770540   9.247547    6.775420   8.392689  \n",
       "Feb   3.687269  -2.339584    4.136036  -0.039219  \n",
       "Mar  27.842376  16.704992   14.251738  23.699628  \n",
       "Apr  35.118771  32.875166   27.338120  23.809948  \n",
       "May   2.127361  -0.110955  -12.081322   1.876569  \n",
       "Jun  10.780926   9.669403    2.083607  13.030369  \n",
       "Jul  19.395234  14.566929   12.041061  20.669249  \n",
       "Aug  18.239768  -3.215009   -1.637649  14.556470  \n",
       "Sep   0.345824  -2.654832    0.625954   0.241846  \n",
       "Oct   7.062053   3.816700    5.516739   5.934277  \n",
       "Nov  17.592083  21.534310   21.735693  19.432654  \n",
       "Dec   1.535632   8.837094    7.718776   3.924705  "
      ]
     },
     "execution_count": 6,
     "metadata": {},
     "output_type": "execute_result"
    }
   ],
   "source": [
    "relative_perfs[\"avg\"] = relative_perfs.mean(axis=1)\n",
    "relative_perfs"
   ]
  },
  {
   "cell_type": "code",
   "execution_count": 7,
   "metadata": {},
   "outputs": [
    {
     "data": {
      "text/plain": [
       "11.577186427182768"
      ]
     },
     "execution_count": 7,
     "metadata": {},
     "output_type": "execute_result"
    }
   ],
   "source": [
    "np.std(relative)"
   ]
  },
  {
   "cell_type": "code",
   "execution_count": 8,
   "metadata": {},
   "outputs": [
    {
     "name": "stdout",
     "output_type": "stream",
     "text": [
      "(11.294098729931662,) 5.248581219648191\n"
     ]
    },
    {
     "data": {
      "text/plain": [
       "(array([6.04551751]), array([16.54267995]))"
      ]
     },
     "execution_count": 8,
     "metadata": {},
     "output_type": "execute_result"
    }
   ],
   "source": [
    "# 95\\% confidence interval (not accurate, these samples are not independent). We assume that the 6 months we tested on (every other month) are representative\n",
    "# of our overall performance on the 6 rounds of GEFCom2017. (maybe explain more why this is as fair of a comparison as it gets)\n",
    "me = np.mean(relative), \n",
    "er = np.std(relative_perfs.avg, ddof=1) / np.sqrt(12)  # ?\n",
    "print(me, 2 * er)\n",
    "me - 2 * er, me + 2 * er"
   ]
  },
  {
   "cell_type": "code",
   "execution_count": null,
   "metadata": {},
   "outputs": [],
   "source": []
  },
  {
   "cell_type": "code",
   "execution_count": 10,
   "metadata": {},
   "outputs": [
    {
     "data": {
      "text/plain": [
       "<matplotlib.legend.Legend at 0x24c0b4222c8>"
      ]
     },
     "execution_count": 10,
     "metadata": {},
     "output_type": "execute_result"
    },
    {
     "data": {
      "image/png": "[encoded data removed]",
      "text/plain": [
       "<Figure size 900x600 with 1 Axes>"
      ]
     },
     "metadata": {
      "needs_background": "light"
     },
     "output_type": "display_data"
    }
   ],
   "source": [
    "plt.figure(dpi=150)\n",
    "plt.bar(np.arange(12), relative_perfs.avg, tick_label=relative_perfs.index)\n",
    "plt.axhline(me, color=\"k\", label=\"overall mean\")\n",
    "plt.title(\"performance averaged over zones\")\n",
    "plt.ylabel(\"avg. % improvement over VB\")\n",
    "plt.xlabel(\"test month\")\n",
    "plt.legend()"
   ]
  },
  {
   "cell_type": "code",
   "execution_count": 11,
   "metadata": {},
   "outputs": [
    {
     "data": {
      "text/plain": [
       "(-0.30935511487652756, 1.2199308014257895)"
      ]
     },
     "execution_count": 11,
     "metadata": {},
     "output_type": "execute_result"
    },
    {
     "data": {
      "image/png": "[encoded data removed]",
      "text/plain": [
       "<Figure size 432x288 with 1 Axes>"
      ]
     },
     "metadata": {
      "needs_background": "light"
     },
     "output_type": "display_data"
    }
   ],
   "source": [
    "z_hist, bin_edges = np.histogram(test_z_scores, bins=40, range=(-5, 5), density=True)\n",
    "z_axis = (bin_edges[1:] + bin_edges[:-1]) / 2\n",
    "plt.plot(z_axis, z_hist, label=\"Koopman test z-scores\")\n",
    "# plt.plot(z_axis, normal_pdf(0, 1, z_axis), label=\"Standard Normal Curve\")\n",
    "# plt.title(list(all_data.keys())[i])\n",
    "np.mean(test_z_scores), np.mean(rms(np.array(test_z_scores)))"
   ]
  },
  {
   "cell_type": "code",
   "execution_count": 12,
   "metadata": {},
   "outputs": [
    {
     "data": {
      "text/plain": [
       "array([[1.21308564],\n",
       "       [0.91726423],\n",
       "       [1.1737755 ],\n",
       "       [1.45926772],\n",
       "       [1.20578041],\n",
       "       [1.20769826],\n",
       "       [1.19970282],\n",
       "       [1.27310501],\n",
       "       [1.28774317]])"
      ]
     },
     "execution_count": 12,
     "metadata": {},
     "output_type": "execute_result"
    }
   ],
   "source": [
    "mar_z = np.array(test_z_scores_dict[\"Mar\"])\n",
    "mar_z.std(axis=1)"
   ]
  },
  {
   "cell_type": "code",
   "execution_count": 13,
   "metadata": {},
   "outputs": [
    {
     "data": {
      "text/plain": [
       "(-0.02707384298888987, 0.9737972309432206)"
      ]
     },
     "execution_count": 13,
     "metadata": {},
     "output_type": "execute_result"
    },
    {
     "data": {
      "image/png": "[encoded data removed]",
      "text/plain": [
       "<Figure size 432x288 with 1 Axes>"
      ]
     },
     "metadata": {
      "needs_background": "light"
     },
     "output_type": "display_data"
    }
   ],
   "source": [
    "z_hist, bin_edges = np.histogram(z_scores, bins=40, range=(-5, 5), density=True)\n",
    "z_axis = (bin_edges[1:] + bin_edges[:-1]) / 2\n",
    "plt.plot(z_axis, z_hist, label=\"Koopman train z-scores\")\n",
    "# plt.plot(z_axis, normal_pdf(0, 1, z_axis), label=\"Standard Normal Curve\")\n",
    "# plt.title(list(all_data.keys())[i])\n",
    "np.mean(z_scores), np.std(z_scores)"
   ]
  },
  {
   "cell_type": "code",
   "execution_count": 14,
   "metadata": {},
   "outputs": [
    {
     "data": {
      "text/plain": [
       "[-0.5742616549665047,\n",
       " -0.8931502503227425,\n",
       " 0.15497558559142474,\n",
       " -0.3802324627280704,\n",
       " -0.2902479867490024,\n",
       " -0.11282195854511021,\n",
       " -0.48067210306814695,\n",
       " -0.610997502938538,\n",
       " -0.05055767952011566,\n",
       " -0.3121570583114605,\n",
       " -0.16144202399979662,\n",
       " 0.5644286115598942]"
      ]
     },
     "execution_count": 14,
     "metadata": {},
     "output_type": "execute_result"
    }
   ],
   "source": [
    "list(np.mean(test_z_scores_dict[mo]) for mo in relative_perfs.index)"
   ]
  },
  {
   "cell_type": "code",
   "execution_count": null,
   "metadata": {},
   "outputs": [],
   "source": []
  }
 ],
 "metadata": {
  "kernelspec": {
   "display_name": "Python 3",
   "language": "python",
   "name": "python3"
  },
  "language_info": {
   "codemirror_mode": {
    "name": "ipython",
    "version": 3
   },
   "file_extension": ".py",
   "mimetype": "text/x-python",
   "name": "python",
   "nbconvert_exporter": "python",
   "pygments_lexer": "ipython3",
   "version": "3.7.9"
  }
 },
 "nbformat": 4,
 "nbformat_minor": 4
}
